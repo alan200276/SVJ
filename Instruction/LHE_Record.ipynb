{
 "cells": [
  {
   "cell_type": "markdown",
   "metadata": {},
   "source": [
    "## Import Packages"
   ]
  },
  {
   "cell_type": "code",
   "execution_count": 89,
   "metadata": {},
   "outputs": [],
   "source": [
    "import ROOT \n",
    "import pylhe\n",
    "import math\n",
    "import matplotlib.pyplot as plt\n",
    "import numpy as np"
   ]
  },
  {
   "cell_type": "markdown",
   "metadata": {},
   "source": [
    "## Define Mass Function"
   ]
  },
  {
   "cell_type": "code",
   "execution_count": 2,
   "metadata": {},
   "outputs": [],
   "source": [
    "def invariant_mass(p1,p2):\n",
    "    return math.sqrt(sum((1 if index=='e' else -1)*(getattr(p1,index)+getattr(p2,index))**2 for index in ['e','px','py','pz']))\n",
    "def transvers_mass(p1):\n",
    "    return math.sqrt(sum((1 if index=='e' else -1)*(getattr(p1,index))**2 for index in ['e','pz']))\n"
   ]
  },
  {
   "cell_type": "markdown",
   "metadata": {},
   "source": [
    "## Create a Event List and Mass List"
   ]
  },
  {
   "cell_type": "code",
   "execution_count": 63,
   "metadata": {},
   "outputs": [],
   "source": [
    "process_path_MZ_1500 = '/root/MG5_aMC_v2_7_2/sig_schannel/Events/run_01/unweighted_events.lhe' \n",
    "\n",
    "sig_schannel_MZ_1500 = pylhe.readLHE(process_path_MZ_1500)\n",
    "\n",
    "m, mT, event_list = [], [], []\n",
    "\n",
    "for event in sig_schannel_MZ_1500:\n",
    "    m.append(invariant_mass(event.particles[-1],event.particles[-2]))\n",
    "    mT.append(transvers_mass(event.particles[-3]))\n",
    "    event_list.append(event)\n",
    "    \n",
    "m, mT = np.array(m), np.array(mT)\n"
   ]
  },
  {
   "cell_type": "markdown",
   "metadata": {},
   "source": [
    "## Check variables stored in particle"
   ]
  },
  {
   "cell_type": "code",
   "execution_count": 66,
   "metadata": {},
   "outputs": [
    {
     "data": {
      "text/plain": [
       "['__class__',\n",
       " '__delattr__',\n",
       " '__dict__',\n",
       " '__dir__',\n",
       " '__doc__',\n",
       " '__eq__',\n",
       " '__format__',\n",
       " '__ge__',\n",
       " '__getattribute__',\n",
       " '__gt__',\n",
       " '__hash__',\n",
       " '__init__',\n",
       " '__init_subclass__',\n",
       " '__le__',\n",
       " '__lt__',\n",
       " '__module__',\n",
       " '__ne__',\n",
       " '__new__',\n",
       " '__reduce__',\n",
       " '__reduce_ex__',\n",
       " '__repr__',\n",
       " '__setattr__',\n",
       " '__sizeof__',\n",
       " '__str__',\n",
       " '__subclasshook__',\n",
       " '__weakref__',\n",
       " 'color1',\n",
       " 'color2',\n",
       " 'e',\n",
       " 'event',\n",
       " 'fieldnames',\n",
       " 'fromstring',\n",
       " 'id',\n",
       " 'lifetime',\n",
       " 'm',\n",
       " 'mother1',\n",
       " 'mother2',\n",
       " 'mothers',\n",
       " 'px',\n",
       " 'py',\n",
       " 'pz',\n",
       " 'spin',\n",
       " 'status']"
      ]
     },
     "execution_count": 66,
     "metadata": {},
     "output_type": "execute_result"
    }
   ],
   "source": [
    "dir(event_list[0].particles[0]) "
   ]
  },
  {
   "cell_type": "markdown",
   "metadata": {},
   "source": [
    "## Print Information for First Event"
   ]
  },
  {
   "cell_type": "code",
   "execution_count": 85,
   "metadata": {},
   "outputs": [
    {
     "name": "stdout",
     "output_type": "stream",
     "text": [
      "     #         id      mother1     mother2        e           px          py          pz        status   \n",
      "     0         -2         0           0        509.648      -0.000      0.000      509.648        -1     \n",
      "     1          2         0           0        1093.678     0.000       -0.000    -1093.678       -1     \n",
      "     2       5000001      1           2        1603.325     0.000       0.000      -584.030       2      \n",
      "     3       4900101      3           3        596.249     501.067     174.392     271.903        1      \n",
      "     4      -4900101      3           3        1007.077    -501.067    -174.392    -855.934       1      \n"
     ]
    }
   ],
   "source": [
    "print(\"{:^12}{:^9}{:^12}{:^12}{:^12}{:^12}{:^12}{:^12}{:^12}\".format(\"#\",\"id\",\"mother1\",\"mother2\",\"e\",\"px\",\"py\",\"pz\",\"status\"))\n",
    "\n",
    "for i, element in  enumerate(event_list[0].particles):\n",
    "    print(\"{:^12}{:^9.0f}{:^12.0f}{:^12.0f}{:^12.3f}{:^12.3f}{:^12.3f}{:^12.3f}{:^12.0f}\".format(i, element.id,element.mother1,element.mother2,element.e,element.px,element.py,element.pz,element.status))\n",
    "\n",
    "\n"
   ]
  },
  {
   "cell_type": "code",
   "execution_count": 91,
   "metadata": {},
   "outputs": [
    {
     "data": {
      "text/plain": [
       "[<pylhe.LHEEvent at 0x7fbcb53f4208>,\n",
       " <pylhe.LHEEvent at 0x7fbcb53f4208>,\n",
       " <pylhe.LHEEvent at 0x7fbcb53f4208>,\n",
       " <pylhe.LHEEvent at 0x7fbcb53f4208>,\n",
       " <pylhe.LHEEvent at 0x7fbcb53f4208>]"
      ]
     },
     "execution_count": 91,
     "metadata": {},
     "output_type": "execute_result"
    }
   ],
   "source": [
    "[i.event for i in event_list[0].particles]"
   ]
  },
  {
   "cell_type": "code",
   "execution_count": 10,
   "metadata": {},
   "outputs": [
    {
     "data": {
      "text/plain": [
       "[-1.0, -1.0, 2.0, 1.0, 1.0]"
      ]
     },
     "execution_count": 10,
     "metadata": {},
     "output_type": "execute_result"
    }
   ],
   "source": [
    "[i.status for i in event_list[0].particles] #particle status for first event (Parton level)"
   ]
  },
  {
   "cell_type": "code",
   "execution_count": 87,
   "metadata": {},
   "outputs": [
    {
     "data": {
      "text/plain": [
       "[<bound method LHEParticle.mothers of <pylhe.LHEParticle object at 0x7fbcb53f40b8>>,\n",
       " <bound method LHEParticle.mothers of <pylhe.LHEParticle object at 0x7fbcb53f4048>>,\n",
       " <bound method LHEParticle.mothers of <pylhe.LHEParticle object at 0x7fbcb53f4198>>,\n",
       " <bound method LHEParticle.mothers of <pylhe.LHEParticle object at 0x7fbcb53f4240>>,\n",
       " <bound method LHEParticle.mothers of <pylhe.LHEParticle object at 0x7fbcb52ecf98>>]"
      ]
     },
     "execution_count": 87,
     "metadata": {},
     "output_type": "execute_result"
    }
   ],
   "source": [
    "[i.mothers for i in event_list[0].particles] #particle id for first event (Parton level)"
   ]
  },
  {
   "cell_type": "markdown",
   "metadata": {},
   "source": [
    "## Make a Plot for $M_{xd, \\bar{xd}}$"
   ]
  },
  {
   "cell_type": "code",
   "execution_count": 56,
   "metadata": {},
   "outputs": [
    {
     "data": {
      "image/png": "[encoded data removed]",
      "text/plain": [
       "<Figure size 576x576 with 1 Axes>"
      ]
     },
     "metadata": {
      "needs_background": "light"
     },
     "output_type": "display_data"
    }
   ],
   "source": [
    "plt.figure(figsize=(8,8)) # plotsize\n",
    "\n",
    "bin_size = np.linspace(800,2000,121)\n",
    "hist, bins = np.histogram(m, bins=bin_size)\n",
    "plt.step(bins[:-1], hist.astype(np.float32)/10,color = \"green\", where='mid',linewidth=2, alpha=0.7,label=\"$M_{xd,\\\\bar{xd}}$\") \n",
    "\n",
    "plt.legend(bbox_to_anchor=(1, 1),ncol=2,fontsize=20) # plot label tag\n",
    "plt.yscale('log') \n",
    "plt.xlabel(\"$M_{xd,\\\\bar{xd}}$ [GeV]\" , fontsize=20, horizontalalignment='right',x=1)  # plot x-axis label\n",
    "plt.ylabel(\"dN/d$M_{xd,\\\\bar{xd}}$\", fontsize=20, horizontalalignment='right',y=1)  # plot y-axis label\n",
    "plt.xticks(fontsize=15)   # set x-ticks size\n",
    "plt.yticks(fontsize=15)   # set y-ticks size \n",
    "# plt.savefig(\"./invariant_mass_SVJ.png\")  #save figure as png\n",
    "plt.show()"
   ]
  },
  {
   "cell_type": "code",
   "execution_count": null,
   "metadata": {},
   "outputs": [],
   "source": []
  }
 ],
 "metadata": {
  "kernelspec": {
   "display_name": "Python 3",
   "language": "python",
   "name": "python3"
  },
  "language_info": {
   "codemirror_mode": {
    "name": "ipython",
    "version": 3
   },
   "file_extension": ".py",
   "mimetype": "text/x-python",
   "name": "python",
   "nbconvert_exporter": "python",
   "pygments_lexer": "ipython3",
   "version": "3.6.8"
  }
 },
 "nbformat": 4,
 "nbformat_minor": 4
}
