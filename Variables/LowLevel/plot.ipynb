{
 "cells": [
  {
   "cell_type": "code",
   "execution_count": 7,
   "metadata": {},
   "outputs": [],
   "source": [
    "import h5py\n",
    "import numpy as np\n",
    "import matplotlib.pyplot as plt\n",
    "import matplotlib"
   ]
  },
  {
   "cell_type": "code",
   "execution_count": 8,
   "metadata": {},
   "outputs": [],
   "source": [
    "train_file = h5py.File(\"/Volumes/MacOS/Research/training_data_2054494.h5\", \"r\")"
   ]
  },
  {
   "cell_type": "code",
   "execution_count": 9,
   "metadata": {},
   "outputs": [],
   "source": [
    "def heat_map(jet_img, label):\n",
    "    plt.imshow((jet_img/np.sum(jet_img)), norm=matplotlib.colors.LogNorm())#)\n",
    "    plt.margins(0,0)\n",
    "    #cbar = plt.colorbar()\n",
    "    #cbar.set_label('ET in ECal Tower')\n",
    "    #plt.xlabel('$\\\\eta$')\n",
    "    #plt.ylabel('$\\\\phi$')\n",
    "    plt.xticks([])\n",
    "    plt.yticks([])\n",
    "    plt.title(label)\n",
    "    plt.savefig('figures/%s.pdf'%label)    \n",
    "    plt.show()\n",
    "    plt.clf()\n"
   ]
  },
  {
   "cell_type": "code",
   "execution_count": 10,
   "metadata": {},
   "outputs": [],
   "source": [
    "X_train = train_file['features']\n",
    "y_train = train_file['targets']\n",
    "\n",
    "\n",
    "#N_train = len(X_train)\n",
    "N_train = 10000\n",
    "train_images=np.array(X_train[0:N_train])\n",
    "train_labels=np.array(y_train[0:N_train])"
   ]
  },
  {
   "cell_type": "code",
   "execution_count": 11,
   "metadata": {},
   "outputs": [],
   "source": [
    "sig = np.zeros((32,32))\n",
    "bkg = np.zeros((32,32))\n",
    "\n",
    "\n",
    "sig_index = np.where(train_labels == 1)\n",
    "bkg_index = np.where(train_labels == 0)"
   ]
  },
  {
   "cell_type": "code",
   "execution_count": 13,
   "metadata": {},
   "outputs": [],
   "source": [
    "for i in range(len(sig_index[0])):\n",
    "  sig += train_images[sig_index[0][i],:,:,0]\n",
    "\n",
    "for i in range(len(bkg_index[0])):\n",
    "  bkg += train_images[bkg_index[0][i],:,:,0]\n"
   ]
  },
  {
   "cell_type": "code",
   "execution_count": 14,
   "metadata": {},
   "outputs": [
    {
     "data": {
      "image/png": "[encoded data removed]",
      "text/plain": [
       "<Figure size 432x288 with 1 Axes>"
      ]
     },
     "metadata": {},
     "output_type": "display_data"
    },
    {
     "data": {
      "image/png": "[encoded data removed]",
      "text/plain": [
       "<Figure size 432x288 with 1 Axes>"
      ]
     },
     "metadata": {},
     "output_type": "display_data"
    },
    {
     "data": {
      "text/plain": [
       "<Figure size 432x288 with 0 Axes>"
      ]
     },
     "metadata": {},
     "output_type": "display_data"
    }
   ],
   "source": [
    "heat_map(bkg, 'QCD')\n",
    "heat_map(sig, 'SVJ')"
   ]
  },
  {
   "cell_type": "code",
   "execution_count": null,
   "metadata": {},
   "outputs": [],
   "source": []
  }
 ],
 "metadata": {
  "kernelspec": {
   "display_name": "Python 3",
   "language": "python",
   "name": "python3"
  }
 },
 "nbformat": 4,
 "nbformat_minor": 4
}
